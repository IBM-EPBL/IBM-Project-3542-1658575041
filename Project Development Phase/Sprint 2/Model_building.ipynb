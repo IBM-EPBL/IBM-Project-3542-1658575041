{
  "nbformat": 4,
  "nbformat_minor": 0,
  "metadata": {
    "colab": {
      "provenance": [],
      "collapsed_sections": []
    },
    "kernelspec": {
      "name": "python3",
      "display_name": "Python 3"
    },
    "language_info": {
      "name": "python"
    }
  },
  "cells": [
    {
      "cell_type": "markdown",
      "source": [
        "# Model Building"
      ],
      "metadata": {
        "id": "Vlh0kiLelTIM"
      }
    },
    {
      "cell_type": "code",
      "source": [
        "from numpy import mean\n",
        "from numpy import std\n",
        "from matplotlib import pyplot as plt\n",
        "from sklearn.model_selection import KFold\n",
        "from tensorflow.keras.datasets import mnist\n",
        "from tensorflow.keras.utils import to_categorical\n",
        "from tensorflow.keras.models import Sequential\n",
        "from tensorflow.keras.layers import Conv2D\n",
        "from tensorflow.keras.layers import MaxPooling2D\n",
        "from tensorflow.keras.layers import Dense\n",
        "from tensorflow.keras.layers import Flatten\n",
        "from tensorflow.keras.optimizers import SGD"
      ],
      "metadata": {
        "id": "n8AZ6YCn4E7w"
      },
      "execution_count": 79,
      "outputs": []
    },
    {
      "cell_type": "markdown",
      "source": [
        "# Load train and test dataset"
      ],
      "metadata": {
        "id": "TtrPDujYTyRy"
      }
    },
    {
      "cell_type": "markdown",
      "source": [
        "## Load dataset"
      ],
      "metadata": {
        "id": "AfXdQlrTT5oM"
      }
    },
    {
      "cell_type": "code",
      "source": [
        "def load_dataset():\n",
        "\t(trainX, trainY), (testX, testY) = mnist.load_data()\n",
        "\t\"\"\"Reshaping dataset\"\"\"\n",
        "\ttrainX = trainX.reshape((trainX.shape[0], 28, 28, 1))\n",
        "\ttestX = testX.reshape((testX.shape[0], 28, 28, 1))\n",
        "\t\"\"\"one hot vector form \"\"\"\n",
        "\ttrainY = to_categorical(trainY)\n",
        "\ttestY = to_categorical(testY)\n",
        "\treturn trainX, trainY, testX, testY\n"
      ],
      "metadata": {
        "id": "m6gM3qXjDbCZ"
      },
      "execution_count": 80,
      "outputs": []
    },
    {
      "cell_type": "markdown",
      "source": [
        "# Preparation of dataset\n"
      ],
      "metadata": {
        "id": "VqtaRH4EUH8V"
      }
    },
    {
      "cell_type": "code",
      "source": [
        "def prep_pixels(train, test):\n",
        "\ttrain = train.astype('float32')\n",
        "\ttest = test.astype('float32')\n",
        "\treturn train / 255.0, test / 255.0"
      ],
      "metadata": {
        "id": "22wfkSicQGqe"
      },
      "execution_count": 81,
      "outputs": []
    },
    {
      "cell_type": "markdown",
      "source": [
        "# CNN Model"
      ],
      "metadata": {
        "id": "HDJ-MkP_UO0o"
      }
    },
    {
      "cell_type": "code",
      "source": [
        "def define_model():\n",
        "\tmodel = Sequential()\n",
        "\tmodel.add(Conv2D(32, (3, 3), activation='relu', kernel_initializer='he_uniform', input_shape=(28, 28, 1)))\n",
        "\tmodel.add(MaxPooling2D((2, 2)))\n",
        "\tmodel.add(Flatten())\n",
        "\tmodel.add(Dense(100, activation='relu', kernel_initializer='he_uniform'))\n",
        "\tmodel.add(Dense(10, activation='softmax'))\n",
        "\t\"\"\"compile model\"\"\"\n",
        "\topt = SGD(learning_rate=0.01, momentum=0.9)\n",
        "\tmodel.compile(optimizer=opt, loss='categorical_crossentropy', metrics=['accuracy'])\n",
        "\treturn model"
      ],
      "metadata": {
        "id": "e3I1W6KvTt4T"
      },
      "execution_count": 82,
      "outputs": []
    },
    {
      "cell_type": "markdown",
      "source": [
        "# Test Model"
      ],
      "metadata": {
        "id": "JxqGJ3m5is5U"
      }
    },
    {
      "cell_type": "code",
      "source": [
        "def evaluate_model(dataX, dataY, n_folds=5):\n",
        "\tscores, histories = list(), list()\n",
        "\t\"\"\"For cross validation\"\"\"\n",
        "\tkfold = KFold(n_folds, shuffle=True, random_state=1)\n",
        "\tfor train_ix, test_ix in kfold.split(dataX):\n",
        "\t\tmodel = define_model()\n",
        "\t\ttrainX, trainY, testX, testY = dataX[train_ix], dataY[train_ix], dataX[test_ix], dataY[test_ix]\n",
        "\t\t\"\"\" Fit model\"\"\"\n",
        "\t\thistory = model.fit(trainX, trainY, epochs=10, batch_size=32, validation_data=(testX, testY), verbose=0)\n",
        "\t\t\"\"\" Evaluate model\"\"\"\n",
        "\t\t_, acc = model.evaluate(testX, testY, verbose=0)\n",
        "\t\tprint('> %.3f' % (acc * 100.0))\n",
        "\t\t\"\"\" For Plotting stores scores\"\"\"\n",
        "\t\tscores.append(acc)\n",
        "\t\thistories.append(history)\n",
        "\treturn scores, histories, model"
      ],
      "metadata": {
        "id": "NVfOtYGcitnF"
      },
      "execution_count": 83,
      "outputs": []
    },
    {
      "cell_type": "markdown",
      "source": [
        "# Learning Curve"
      ],
      "metadata": {
        "id": "t8pmxhO-Untm"
      }
    },
    {
      "cell_type": "code",
      "source": [
        "def show_learning_curve(histories):\n",
        "\tfor i in range(len(histories)):\n",
        "\t\t\"\"\" Plot loss\"\"\"\n",
        "\t\tplt.subplot(2, 1, 1)\n",
        "\t\tplt.title('Cross Entropy Loss')\n",
        "\t\tplt.plot(histories[i].history['loss'], color='red', label='train')\n",
        "\t\tplt.plot(histories[i].history['val_loss'], color='blue', label='test')\n",
        "\t\t\"\"\" Plot accuracy\"\"\"\n",
        "\t\tplt.subplot(2, 1, 2)\n",
        "\t\tplt.title('Classification Accuracy')\n",
        "\t\tplt.plot(histories[i].history['accuracy'], color='yellow', label='train')\n",
        "\t\tplt.plot(histories[i].history['val_accuracy'], color='green', label='test')\n",
        "\tplt.show()"
      ],
      "metadata": {
        "id": "QTrT2YczUraa"
      },
      "execution_count": 84,
      "outputs": []
    },
    {
      "cell_type": "markdown",
      "source": [
        "# Performance"
      ],
      "metadata": {
        "id": "B00kg-Veibi6"
      }
    },
    {
      "cell_type": "code",
      "source": [
        "def performance(scores):\n",
        "\tprint('Accuracy: mean=%.3f std=%.3f, n=%d' % (mean(scores)*100, std(scores)*100, len(scores)))\n",
        "\tplt.boxplot(scores)\n",
        "\tplt.show()"
      ],
      "metadata": {
        "id": "Io_ZZsFOjOl1"
      },
      "execution_count": 85,
      "outputs": []
    },
    {
      "cell_type": "markdown",
      "source": [
        "# Base Function to run"
      ],
      "metadata": {
        "id": "rNsfEgG0jZkR"
      }
    },
    {
      "cell_type": "code",
      "source": [
        "def run_and_test():\n",
        "  trainX, trainY, testX, testY = load_dataset()\n",
        "  trainX, testX = prep_pixels(trainX, testX)\n",
        "  scores, histories, model = evaluate_model(trainX, trainY)\n",
        "  show_learning_curve(histories)\n",
        "  performance(scores)\n",
        "  model.save('model.h5')"
      ],
      "metadata": {
        "id": "Z30pHjANjdQB"
      },
      "execution_count": 86,
      "outputs": []
    },
    {
      "cell_type": "code",
      "source": [
        "run_and_test()"
      ],
      "metadata": {
        "colab": {
          "base_uri": "https://localhost:8080/",
          "height": 728
        },
        "id": "ggKed9UX8VIR",
        "outputId": "5bbd7143-8d82-4745-9b64-5e7aaa07c7fc"
      },
      "execution_count": 87,
      "outputs": [
        {
          "output_type": "stream",
          "name": "stdout",
          "text": [
            "> 98.483\n",
            "> 98.733\n",
            "> 98.442\n",
            "> 98.842\n",
            "> 98.692\n"
          ]
        },
        {
          "output_type": "stream",
          "name": "stderr",
          "text": [
            "/usr/local/lib/python3.7/dist-packages/ipykernel_launcher.py:4: MatplotlibDeprecationWarning: Adding an axes using the same arguments as a previous axes currently reuses the earlier instance.  In a future version, a new instance will always be created and returned.  Meanwhile, this warning can be suppressed, and the future behavior ensured, by passing a unique label to each axes instance.\n",
            "  after removing the cwd from sys.path.\n",
            "/usr/local/lib/python3.7/dist-packages/ipykernel_launcher.py:9: MatplotlibDeprecationWarning: Adding an axes using the same arguments as a previous axes currently reuses the earlier instance.  In a future version, a new instance will always be created and returned.  Meanwhile, this warning can be suppressed, and the future behavior ensured, by passing a unique label to each axes instance.\n",
            "  if __name__ == '__main__':\n"
          ]
        },
        {
          "output_type": "display_data",
          "data": {
            "text/plain": [
              "<Figure size 432x288 with 2 Axes>"
            ],
            "image/png": "[encoded data removed]"
          },
          "metadata": {
            "needs_background": "light"
          }
        },
        {
          "output_type": "stream",
          "name": "stdout",
          "text": [
            "Accuracy: mean=98.638 std=0.152, n=5\n"
          ]
        },
        {
          "output_type": "display_data",
          "data": {
            "text/plain": [
              "<Figure size 432x288 with 1 Axes>"
            ],
            "image/png": "[encoded data removed]"
          },
          "metadata": {
            "needs_background": "light"
          }
        }
      ]
    },
    {
      "cell_type": "markdown",
      "source": [
        "# Test"
      ],
      "metadata": {
        "id": "EfBuyeUrL5r9"
      }
    },
    {
      "cell_type": "code",
      "source": [
        "from numpy import argmax\n",
        "from tensorflow.keras.utils import load_img\n",
        "from tensorflow.keras.utils import img_to_array\n",
        "from keras.models import load_model"
      ],
      "metadata": {
        "id": "iAwOhNq4MwVh"
      },
      "execution_count": 90,
      "outputs": []
    },
    {
      "cell_type": "code",
      "source": [
        "def load_image(filename):\n",
        "  test_img = load_img(filename, grayscale=True, target_size=(28, 28))\n",
        "  img = img_to_array(test_img)\n",
        "  img = img.reshape(1, 28, 28, 1)\n",
        "  img = img.astype('float32')\n",
        "  img = img / 255.0\n",
        "  return img,test_img"
      ],
      "metadata": {
        "id": "cCHYY9m8Dv7k"
      },
      "execution_count": 107,
      "outputs": []
    },
    {
      "cell_type": "markdown",
      "source": [
        "# Predict the class"
      ],
      "metadata": {
        "id": "TVZfluwhMBZy"
      }
    },
    {
      "cell_type": "code",
      "source": [
        "def predict():\n",
        "  img,test_img = load_image('sample_image-768x763.png')\n",
        "  model = load_model('model.h5')\n",
        "\n",
        "  predict_value = model.predict(img)\n",
        "  digit = argmax(predict_value)\n",
        "  print(digit)\n",
        "  return test_img"
      ],
      "metadata": {
        "id": "zaeu02mIMReS"
      },
      "execution_count": 108,
      "outputs": []
    },
    {
      "cell_type": "markdown",
      "source": [
        "# Function to run test"
      ],
      "metadata": {
        "id": "lg6FdK5rMS1J"
      }
    },
    {
      "cell_type": "code",
      "source": [
        "predict()"
      ],
      "metadata": {
        "colab": {
          "base_uri": "https://localhost:8080/",
          "height": 116
        },
        "id": "8YM2NaqZMTIV",
        "outputId": "e0b487d1-e301-4939-dac7-bbdd00cb063a"
      },
      "execution_count": 109,
      "outputs": [
        {
          "output_type": "stream",
          "name": "stderr",
          "text": [
            "/usr/local/lib/python3.7/dist-packages/keras/utils/image_utils.py:382: UserWarning: grayscale is deprecated. Please use color_mode = \"grayscale\"\n",
            "  warnings.warn('grayscale is deprecated. Please use '\n"
          ]
        },
        {
          "output_type": "stream",
          "name": "stdout",
          "text": [
            "1/1 [==============================] - 0s 112ms/step\n",
            "7\n"
          ]
        },
        {
          "output_type": "execute_result",
          "data": {
            "text/plain": [
              "<PIL.Image.Image image mode=L size=28x28 at 0x7FA0CEF104D0>"
            ],
            "image/png": "[encoded data removed]"
          },
          "metadata": {},
          "execution_count": 109
        }
      ]
    }
  ]
}